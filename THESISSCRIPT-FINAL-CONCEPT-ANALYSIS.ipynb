{
 "cells": [
  {
   "cell_type": "markdown",
   "id": "833c2930-a4e7-44e1-91cd-33de1cc5fba7",
   "metadata": {},
   "source": [
    "## Stappenplan:\n",
    "1. Data transformation\n",
    "- Pivot; clean; remaining features:\n",
    "      ['Datum', 'Binnengekomen bij Provider', 'Doorgeleid naar keuzemenu',\n",
    "       'Door beller opgehangen in menu', 'Automatisch behandeld in menu',\n",
    "       'Doorverbindingen_totaal',  'Wachtrij_totaal', 'Wachtrij_opgehangen_totaal',\n",
    "       'Geholpen_totaal', 'Gemiddelde_wachttijd_totaal', & per cat:\n",
    "       'Doorverbindingen_CAT', \n",
    "       'Wachtrij_CAT',\n",
    "       'Wachtrij_opgehangen_CAT',\n",
    "       'Geholpen_CAT', \n",
    "       'Gemiddelde_wachttijd_CAT']\n",
    "\n",
    "2. Data analysis\n",
    "- Moving average of calls/waiting time per category\n",
    "\n",
    "- Is wachttijd consistent over time? En aantal oproepen?\n",
    "\n",
    "- Is wachttijd correlated with complexity score?\n",
    "\n",
    "- Similarity between categories\n",
    "\n",
    "- Effect of the deadlines on calls?\n",
    "\n",
    "2. Data enrichment\n",
    "- Calender events/holidays/tax deadlines\n",
    "- Weather"
   ]
  },
  {
   "cell_type": "code",
   "execution_count": null,
   "id": "ecbf62a9-5ce7-4946-8580-ae0f20265077",
   "metadata": {},
   "outputs": [],
   "source": [
    "pip install workalendar"
   ]
  },
  {
   "cell_type": "code",
   "execution_count": null,
   "id": "d7322bb2-3dd4-4bb4-af7d-4a59319df493",
   "metadata": {},
   "outputs": [],
   "source": [
    "import pandas as pd\n",
    "import numpy as np\n",
    "import matplotlib.pyplot as plt\n",
    "import datetime\n",
    "import time\n",
    "import seaborn as sns\n",
    "from cycler import cycler\n",
    "from workalendar.europe import Netherlands\n",
    "import json\n",
    "from datetime import date, timedelta\n",
    "from datetime import datetime \n",
    "import calendar\n",
    "\n",
    "import warnings\n",
    "warnings.simplefilter(action='ignore', category=FutureWarning)\n",
    "\n",
    "line_cycler   = (cycler(color=[\"#E69F00\", \"#56B4E9\", \"#009E73\", \"#0072B2\", \"#D55E00\", \"#CC79A7\", \"#F0E442\"]) +\n",
    "                 cycler(linestyle=[\"-\", \"--\", \"-.\", \":\", \"-\", \"--\", \"-.\"]))"
   ]
  },
  {
   "cell_type": "markdown",
   "id": "b3a835ce-b74f-4824-89c8-f38f67322d07",
   "metadata": {},
   "source": [
    "## 1. Data transformation"
   ]
  },
  {
   "cell_type": "markdown",
   "id": "c5569a39-dc45-49e0-a29d-10a6052ac972",
   "metadata": {},
   "source": [
    "### Data inladen; kolom 'Datum' in data format zetten"
   ]
  },
  {
   "cell_type": "code",
   "execution_count": null,
   "id": "d1a629ed-850b-41d6-a532-3d93788acaff",
   "metadata": {},
   "outputs": [],
   "source": [
    "data = pd.read_csv('belastingtelefoon_odt003 (3).csv', sep = ';', decimal = \",\") # douane eruit"
   ]
  },
  {
   "cell_type": "code",
   "execution_count": null,
   "id": "f51e3a19-c185-41f1-a903-c0fa5fde8e52",
   "metadata": {},
   "outputs": [],
   "source": [
    "data['Datum'] = pd.to_datetime(data['Datum'], format =  \"%d/%m/%Y\")"
   ]
  },
  {
   "cell_type": "markdown",
   "id": "f6546477-913c-4acd-9661-de1b1ded135d",
   "metadata": {},
   "source": [
    "### Kolommen hernoemen; null-waardes vervangen door 0"
   ]
  },
  {
   "cell_type": "code",
   "execution_count": null,
   "id": "2b8afeb3-7890-42ba-b127-cff05664604e",
   "metadata": {},
   "outputs": [],
   "source": [
    "data = data.fillna(0) "
   ]
  },
  {
   "cell_type": "code",
   "execution_count": null,
   "id": "9abd0f90-5599-4f17-9834-8aab33772050",
   "metadata": {},
   "outputs": [],
   "source": [
    "data.columns = ['Datum', 'Binnengekomen bij Provider', 'Doorgeleid naar keuzemenu',\n",
    "       'Door beller opgehangen in menu', 'Automatisch behandeld in menu',\n",
    "       'Thema', 'Doorverbindingen', 'Wachtrij',\n",
    "       'Wachtrij_opgehangen', 'Geholpen',\n",
    "       'Gemiddelde_wachttijd','','']\n",
    "data=data[['Datum', 'Binnengekomen bij Provider', 'Doorgeleid naar keuzemenu',\n",
    "       'Door beller opgehangen in menu', 'Automatisch behandeld in menu',\n",
    "       'Thema', 'Doorverbindingen', 'Wachtrij',\n",
    "       'Wachtrij_opgehangen', 'Geholpen',\n",
    "       'Gemiddelde_wachttijd']]"
   ]
  },
  {
   "cell_type": "code",
   "execution_count": null,
   "id": "6bb490e5-bf10-4cfd-8d5d-ec094591aebe",
   "metadata": {},
   "outputs": [],
   "source": [
    "df_dagelijkse_totaal = data[data['Thema'] == 'TOTAAL'][['Datum', 'Binnengekomen bij Provider', 'Doorgeleid naar keuzemenu',\n",
    "       'Door beller opgehangen in menu', 'Automatisch behandeld in menu']]"
   ]
  },
  {
   "cell_type": "markdown",
   "id": "77d79be4-579f-4259-8a2f-65301045a91c",
   "metadata": {},
   "source": [
    "### Pivot de thema kolommen en join deze df met de totals dataframe"
   ]
  },
  {
   "cell_type": "code",
   "execution_count": null,
   "id": "279f50b5-fd0a-44da-95da-3b9f8a39685d",
   "metadata": {},
   "outputs": [],
   "source": [
    "df_dagelijkse_themas = data.pivot(index='Datum', columns='Thema', values=['Doorverbindingen', 'Wachtrij',\n",
    "       'Wachtrij_opgehangen', 'Geholpen',\n",
    "       'Gemiddelde_wachttijd'])"
   ]
  },
  {
   "cell_type": "code",
   "execution_count": null,
   "id": "ded04984-b7ef-4e03-b323-949e0bedcae3",
   "metadata": {},
   "outputs": [],
   "source": [
    "df_totaal = df_dagelijkse_totaal.join(df_dagelijkse_themas, on = 'Datum', how = 'inner')"
   ]
  },
  {
   "cell_type": "code",
   "execution_count": null,
   "id": "08917ea7-2f75-45fc-a25f-758316f27c8d",
   "metadata": {},
   "outputs": [],
   "source": [
    "df_totaal.columns"
   ]
  },
  {
   "cell_type": "markdown",
   "id": "b07489a6-f614-48e1-8b6f-b6647675d4dc",
   "metadata": {},
   "source": [
    "### Trek de douane kolommen af van het totaal (aangezien douane enkel een thema was tot februari 2020). Ga vervolgens verder met de resterende kolommen. "
   ]
  },
  {
   "cell_type": "code",
   "execution_count": null,
   "id": "2eaff79b-66dd-4ef5-ae0e-58ec9be1ff16",
   "metadata": {},
   "outputs": [],
   "source": [
    "df_totaal = df_totaal.fillna(0)\n",
    "df_totaal['Binnengekomen bij Provider'] = df_totaal['Binnengekomen bij Provider'] - df_totaal[('Doorverbindingen', 'DOUANE')]\n",
    "df_totaal['Doorgeleid naar keuzemenu'] = df_totaal['Doorgeleid naar keuzemenu'] - df_totaal[('Doorverbindingen', 'DOUANE')]\n",
    "df_totaal[('Doorverbindingen', 'TOTAAL')] = df_totaal[('Doorverbindingen', 'TOTAAL')] - df_totaal[('Doorverbindingen', 'DOUANE')]\n",
    "df_totaal[('Wachtrij', 'TOTAAL')] = df_totaal[('Wachtrij', 'TOTAAL')] - df_totaal[('Wachtrij', 'DOUANE')]\n",
    "df_totaal[('Wachtrij_opgehangen', 'TOTAAL')] = df_totaal[('Wachtrij_opgehangen', 'TOTAAL')] - df_totaal[('Wachtrij_opgehangen', 'DOUANE')]\n",
    "df_totaal[('Geholpen', 'TOTAAL')] = df_totaal[('Geholpen', 'TOTAAL')] - df_totaal[('Geholpen', 'DOUANE')]"
   ]
  },
  {
   "cell_type": "markdown",
   "id": "0599649a-361d-45b5-8f7c-985a0b959ff9",
   "metadata": {},
   "source": [
    "### Trek de ontbrekende kolommen af van het totaal (aangezien we geen informatie hebben over de beller, kunnen we hier niets mee). Dit zijn 13 rijen. "
   ]
  },
  {
   "cell_type": "code",
   "execution_count": null,
   "id": "4d767ea5-99ad-490e-9b04-c337262fa6f6",
   "metadata": {},
   "outputs": [],
   "source": [
    "df_totaal['Wachtrij', 'ONTBREEKT'][df_totaal[('Wachtrij', 'ONTBREEKT')].notna()]"
   ]
  },
  {
   "cell_type": "code",
   "execution_count": null,
   "id": "f19ec886-bf92-4db2-bc4c-9ace51a4f2ac",
   "metadata": {},
   "outputs": [],
   "source": [
    "df_totaal['Binnengekomen bij Provider'] = df_totaal['Binnengekomen bij Provider'] - df_totaal[('Doorverbindingen', 'ONTBREEKT')]\n",
    "df_totaal['Doorgeleid naar keuzemenu'] = df_totaal['Doorgeleid naar keuzemenu'] - df_totaal[('Doorverbindingen', 'ONTBREEKT')]\n",
    "df_totaal[('Doorverbindingen', 'TOTAAL')] = df_totaal[('Doorverbindingen', 'TOTAAL')] - df_totaal[('Doorverbindingen', 'ONTBREEKT')]\n",
    "df_totaal[('Wachtrij', 'TOTAAL')] = df_totaal[('Wachtrij', 'TOTAAL')] - df_totaal[('Wachtrij', 'ONTBREEKT')]\n",
    "df_totaal[('Wachtrij_opgehangen', 'TOTAAL')] = df_totaal[('Wachtrij_opgehangen', 'TOTAAL')] - df_totaal[('Wachtrij_opgehangen', 'ONTBREEKT')]\n",
    "df_totaal[('Geholpen', 'TOTAAL')] = df_totaal[('Geholpen', 'TOTAAL')] - df_totaal[('Geholpen', 'ONTBREEKT')]"
   ]
  },
  {
   "cell_type": "markdown",
   "id": "1bee0b16-b60f-4ed7-8797-d4c0e9d6cdd7",
   "metadata": {},
   "source": [
    "### Op 2022-09-14 zijn er geen oproepen geregistreerd. Het is mij onbekend of dit komt door een interne storing bij de belastingdienst, maar het lijkt erop dat die dag wel oproepen zijn binnengekomen, doorgeleid en afgewerkt, aangezien online geen informatie te vinden valt. Logischerwijs moet deze datum uit de data worden verwijderd. "
   ]
  },
  {
   "cell_type": "code",
   "execution_count": null,
   "id": "8100d562-a853-4aa3-a9ba-a12d14d9b0c0",
   "metadata": {},
   "outputs": [],
   "source": [
    "df_totaal = df_totaal.drop(axis=0, index = df_totaal[df_totaal['Datum'] == '2022-09-14'].index)"
   ]
  },
  {
   "cell_type": "code",
   "execution_count": null,
   "id": "ed05c0ec-0541-489d-b7f5-5f9eaf98dda5",
   "metadata": {},
   "outputs": [],
   "source": [
    "\n",
    "df_totaal = df_totaal[['Datum',\n",
    "                    'Binnengekomen bij Provider',\n",
    "                     'Doorgeleid naar keuzemenu',\n",
    "                'Door beller opgehangen in menu',\n",
    "                 'Automatisch behandeld in menu',\n",
    "                    ('Doorverbindingen', 'AUTO'),\n",
    "              ('Doorverbindingen', 'BUITENLAND'),\n",
    "                  ('Doorverbindingen', 'DOUANE'),\n",
    "           ('Doorverbindingen', 'INTERMEDIAIRS'),\n",
    "           ('Doorverbindingen', 'ONDERNEMINGEN'),\n",
    "               ('Doorverbindingen', 'ONTBREEKT'),\n",
    "                  ('Doorverbindingen', 'OVERIG'),\n",
    "           ('Doorverbindingen', 'PARTICULIEREN'),\n",
    "               ('Doorverbindingen', 'TOESLAGEN'),\n",
    "                  ('Doorverbindingen', 'TOTAAL'),\n",
    "                            ('Wachtrij', 'AUTO'),\n",
    "                      ('Wachtrij', 'BUITENLAND'),\n",
    "                   ('Wachtrij', 'INTERMEDIAIRS'),\n",
    "                   ('Wachtrij', 'ONDERNEMINGEN'),\n",
    "                       ('Wachtrij', 'ONTBREEKT'),\n",
    "                          ('Wachtrij', 'OVERIG'),\n",
    "                   ('Wachtrij', 'PARTICULIEREN'),\n",
    "                       ('Wachtrij', 'TOESLAGEN'),\n",
    "                          ('Wachtrij', 'TOTAAL'),\n",
    "                 ('Wachtrij_opgehangen', 'AUTO'),\n",
    "           ('Wachtrij_opgehangen', 'BUITENLAND'),\n",
    "        ('Wachtrij_opgehangen', 'INTERMEDIAIRS'),\n",
    "        ('Wachtrij_opgehangen', 'ONDERNEMINGEN'),\n",
    "            ('Wachtrij_opgehangen', 'ONTBREEKT'),\n",
    "               ('Wachtrij_opgehangen', 'OVERIG'),\n",
    "        ('Wachtrij_opgehangen', 'PARTICULIEREN'),\n",
    "            ('Wachtrij_opgehangen', 'TOESLAGEN'),\n",
    "               ('Wachtrij_opgehangen', 'TOTAAL'),\n",
    "                            ('Geholpen', 'AUTO'),\n",
    "                      ('Geholpen', 'BUITENLAND'),\n",
    "                   ('Geholpen', 'INTERMEDIAIRS'),\n",
    "                   ('Geholpen', 'ONDERNEMINGEN'),\n",
    "                       ('Geholpen', 'ONTBREEKT'),\n",
    "                          ('Geholpen', 'OVERIG'),\n",
    "                   ('Geholpen', 'PARTICULIEREN'),\n",
    "                       ('Geholpen', 'TOESLAGEN'),\n",
    "                          ('Geholpen', 'TOTAAL'),\n",
    "                ('Gemiddelde_wachttijd', 'AUTO'),\n",
    "          ('Gemiddelde_wachttijd', 'BUITENLAND'),\n",
    "       ('Gemiddelde_wachttijd', 'INTERMEDIAIRS'),\n",
    "       ('Gemiddelde_wachttijd', 'ONDERNEMINGEN'),\n",
    "           ('Gemiddelde_wachttijd', 'ONTBREEKT'),\n",
    "              ('Gemiddelde_wachttijd', 'OVERIG'),\n",
    "       ('Gemiddelde_wachttijd', 'PARTICULIEREN'),\n",
    "           ('Gemiddelde_wachttijd', 'TOESLAGEN'),\n",
    "              ('Gemiddelde_wachttijd', 'TOTAAL')]]\n",
    "\n",
    "# Maand en jaar kolommen toevoegen\n",
    "df_totaal['Maand'] = df_totaal['Datum'].dt.strftime('%b')\n",
    "df_totaal['Jaar'] = df_totaal['Datum'].dt.strftime('%Y')\n",
    "\n",
    "# Complexiteitsscores toevoegen\n",
    "df_totaal['ComplexityScore_ondernemingen'] = 1\n",
    "df_totaal['ComplexityScore_particulieren'] = 2\n",
    "df_totaal['ComplexityScore_buitenland'] = 3\n",
    "df_totaal['ComplexityScore_overig'] = 4\n",
    "df_totaal['ComplexityScore_intermediairs'] = 5\n",
    "df_totaal['ComplexityScore_toeslagen'] = 6\n",
    "df_totaal['ComplexityScore_auto'] = 7\n",
    "\n",
    "df_totaal['DagvdWeek'] = df_totaal['Datum'].dt.dayofweek\n",
    "df_totaal['Maand'] = df_totaal['Datum'].dt.month\n",
    "df_totaal['Dag'] = df_totaal['Datum'].dt.day\n",
    "df_totaal['WeekNr'] = df_totaal['Datum'].dt.isocalendar().week"
   ]
  },
  {
   "cell_type": "code",
   "execution_count": null,
   "id": "b114de9c-e39f-46ae-ac63-d3a2fea7f1e5",
   "metadata": {},
   "outputs": [],
   "source": [
    "df_totaal = df_totaal.reset_index(drop = True)"
   ]
  },
  {
   "cell_type": "markdown",
   "id": "53578d37-5662-4324-9611-cca0c0c038dd",
   "metadata": {},
   "source": [
    "### Aparte dataframe aanmaken voor elk thema\n",
    "Particulieren, toeslagen, ondernemingen, buitenland, auto, intermediairs, overig"
   ]
  },
  {
   "cell_type": "code",
   "execution_count": null,
   "id": "fabbed45-e184-4fd3-b600-64ab42a6ca0e",
   "metadata": {},
   "outputs": [],
   "source": [
    "# DF Particulieren\n",
    "df_particulieren = df_totaal[[ 'Datum', 'Maand', 'Jaar',\n",
    "                    'DagvdWeek', 'Dag', 'WeekNr', \n",
    "                    'Binnengekomen bij Provider',\n",
    "                    'Doorgeleid naar keuzemenu',\n",
    "                    'Door beller opgehangen in menu',\n",
    "                    'Automatisch behandeld in menu',\n",
    "                    'ComplexityScore_particulieren',\n",
    "                    ('Doorverbindingen', 'PARTICULIEREN'),\n",
    "                    ('Doorverbindingen', 'TOTAAL'),\n",
    "                    ('Wachtrij', 'PARTICULIEREN'),\n",
    "                    ('Wachtrij', 'TOTAAL'),\n",
    "                    ('Wachtrij_opgehangen', 'PARTICULIEREN'),\n",
    "                    ('Wachtrij_opgehangen', 'TOTAAL'),\n",
    "                    ('Geholpen', 'PARTICULIEREN'),\n",
    "                    ('Geholpen', 'TOTAAL'),\n",
    "                    ('Gemiddelde_wachttijd', 'PARTICULIEREN'),\n",
    "                    ('Gemiddelde_wachttijd', 'TOTAAL')]]\n",
    "\n",
    "df_particulieren.columns = [ 'Datum', 'Maand', 'Jaar',\n",
    "                    'DagvdWeek', 'Dag', 'WeekNr', \n",
    "                    'Binnengekomen bij Provider',\n",
    "                    'Doorgeleid naar keuzemenu',\n",
    "                    'Door beller opgehangen in menu',\n",
    "                    'Automatisch behandeld in menu',\n",
    "                    'ComplexityScore_particulieren',\n",
    "                    ('Doorverbindingen_particulieren'),\n",
    "                    ('Doorverbindingen_totaal'),\n",
    "                    ('Wachtrij_particulieren'),\n",
    "                    ('Wachtrij_totaal'),\n",
    "                    ('Wachtrij_opgehangen_particulieren'),\n",
    "                    ('Wachtrij_opgehangen_totaal'),\n",
    "                    ('Geholpen_particulieren'),\n",
    "                    ('Geholpen_totaal'),\n",
    "                    ('Gemiddelde_wachttijd_particulieren'),\n",
    "                    ('Gemiddelde_wachttijd_totaal')]"
   ]
  },
  {
   "cell_type": "code",
   "execution_count": null,
   "id": "7c573cc9-31ed-45a8-8009-a6a244c105e9",
   "metadata": {},
   "outputs": [],
   "source": [
    "# DF toeslagen\n",
    "df_toeslagen = df_totaal[[ 'Datum', 'Maand', 'Jaar',\n",
    "                    'DagvdWeek', 'Dag', 'WeekNr', \n",
    "                    'Binnengekomen bij Provider',\n",
    "                    'Doorgeleid naar keuzemenu',\n",
    "                    'Door beller opgehangen in menu',\n",
    "                    'Automatisch behandeld in menu',\n",
    "                    'ComplexityScore_toeslagen',\n",
    "                    ('Doorverbindingen', 'TOESLAGEN'),\n",
    "                    ('Doorverbindingen', 'TOTAAL'),\n",
    "                    ('Wachtrij', 'TOESLAGEN'),\n",
    "                    ('Wachtrij', 'TOTAAL'),\n",
    "                    ('Wachtrij_opgehangen', 'TOESLAGEN'),\n",
    "                    ('Wachtrij_opgehangen', 'TOTAAL'),\n",
    "                    ('Geholpen', 'TOESLAGEN'),\n",
    "                    ('Geholpen', 'TOTAAL'),\n",
    "                    ('Gemiddelde_wachttijd', 'TOESLAGEN'),\n",
    "                    ('Gemiddelde_wachttijd', 'TOTAAL')]]\n",
    "\n",
    "df_toeslagen.columns =  ['Datum', 'Maand', 'Jaar',\n",
    "                      'DagvdWeek', 'Dag', 'WeekNr', \n",
    "                      'Binnengekomen bij Provider',\n",
    "                      'Doorgeleid naar keuzemenu',\n",
    "                      'Door beller opgehangen in menu',\n",
    "                      'Automatisch behandeld in menu',\n",
    "                      'ComplexityScore_ondernemingen',\n",
    "                      'Doorverbindingen_toeslagen',\n",
    "                      'Doorverbindingen_totaal',\n",
    "                      'Wachtrij_toeslagen',\n",
    "                      'Wachtrij_totaal',\n",
    "                      'Wachtrij_opgehangen_toeslagen',\n",
    "                      'Wachtrij_opgehangen_totaal',\n",
    "                      'Geholpen_toeslagen',\n",
    "                      'Geholpen_totaal',\n",
    "                      'Gemiddelde_wachttijd_toeslagen',\n",
    "                      'Gemiddelde_wachttijd_totaal']"
   ]
  },
  {
   "cell_type": "code",
   "execution_count": null,
   "id": "bbb718ca-2b40-4755-9372-286f9255b840",
   "metadata": {},
   "outputs": [],
   "source": [
    "# DF ondernemingen\n",
    "df_ondernemingen = df_totaal[[ 'Datum', 'Maand', 'Jaar',\n",
    "                    'DagvdWeek', 'Dag', 'WeekNr', \n",
    "                    'Binnengekomen bij Provider',\n",
    "                    'Doorgeleid naar keuzemenu',\n",
    "                    'Door beller opgehangen in menu',\n",
    "                    'Automatisch behandeld in menu',\n",
    "                    'ComplexityScore_ondernemingen',\n",
    "                    ('Doorverbindingen', 'ONDERNEMINGEN'),\n",
    "                    ('Doorverbindingen', 'TOTAAL'),\n",
    "                    ('Wachtrij', 'ONDERNEMINGEN'),\n",
    "                    ('Wachtrij', 'TOTAAL'),\n",
    "                    ('Wachtrij_opgehangen', 'ONDERNEMINGEN'),\n",
    "                    ('Wachtrij_opgehangen', 'TOTAAL'),\n",
    "                    ('Geholpen', 'ONDERNEMINGEN'),\n",
    "                    ('Geholpen', 'TOTAAL'),\n",
    "                    ('Gemiddelde_wachttijd', 'ONDERNEMINGEN'),\n",
    "                    ('Gemiddelde_wachttijd', 'TOTAAL')]]\n",
    "\n",
    "df_ondernemingen.columns =  ['Datum', 'Maand', 'Jaar',\n",
    "                      'DagvdWeek', 'Dag', 'WeekNr', \n",
    "                      'Binnengekomen bij Provider',\n",
    "                      'Doorgeleid naar keuzemenu',\n",
    "                      'Door beller opgehangen in menu',\n",
    "                      'Automatisch behandeld in menu',\n",
    "                      'ComplexityScore_ondernemingen',\n",
    "                      'Doorverbindingen_ondernemingen',\n",
    "                      'Doorverbindingen_totaal',\n",
    "                      'Wachtrij_ondernemingen',\n",
    "                      'Wachtrij_totaal',\n",
    "                      'Wachtrij_opgehangen_ondernemingen',\n",
    "                      'Wachtrij_opgehangen_totaal',\n",
    "                      'Geholpen_ondernemingen',\n",
    "                      'Geholpen_totaal',\n",
    "                      'Gemiddelde_wachttijd_ondernemingen',\n",
    "                      'Gemiddelde_wachttijd_totaal']"
   ]
  },
  {
   "cell_type": "code",
   "execution_count": null,
   "id": "8de82174-f6e7-4032-9aed-044c57cfb0c3",
   "metadata": {},
   "outputs": [],
   "source": [
    "# DF buitenland\n",
    "df_buitenland = df_totaal[[ 'Datum', 'Maand', 'Jaar',\n",
    "                    'DagvdWeek', 'Dag', 'WeekNr', \n",
    "                    'Binnengekomen bij Provider',\n",
    "                    'Doorgeleid naar keuzemenu',\n",
    "                    'Door beller opgehangen in menu',\n",
    "                    'Automatisch behandeld in menu',\n",
    "                    'ComplexityScore_buitenland',\n",
    "                    ('Doorverbindingen', 'BUITENLAND'),\n",
    "                    ('Doorverbindingen', 'TOTAAL'),\n",
    "                    ('Wachtrij', 'BUITENLAND'),\n",
    "                    ('Wachtrij', 'TOTAAL'),\n",
    "                    ('Wachtrij_opgehangen', 'BUITENLAND'),\n",
    "                    ('Wachtrij_opgehangen', 'TOTAAL'),\n",
    "                    ('Geholpen', 'BUITENLAND'),\n",
    "                    ('Geholpen', 'TOTAAL'),\n",
    "                    ('Gemiddelde_wachttijd', 'BUITENLAND'),\n",
    "                    ('Gemiddelde_wachttijd', 'TOTAAL')]]\n",
    "\n",
    "df_buitenland.columns =  ['Datum', 'Maand', 'Jaar',\n",
    "                      'DagvdWeek', 'Dag', 'WeekNr', \n",
    "                      'Binnengekomen bij Provider',\n",
    "                      'Doorgeleid naar keuzemenu',\n",
    "                      'Door beller opgehangen in menu',\n",
    "                      'Automatisch behandeld in menu',\n",
    "                      'ComplexityScore_buitenland',\n",
    "                      'Doorverbindingen_buitenland',\n",
    "                      'Doorverbindingen_totaal',\n",
    "                      'Wachtrij_buitenland',\n",
    "                      'Wachtrij_totaal',\n",
    "                      'Wachtrij_opgehangen_buitenland',\n",
    "                      'Wachtrij_opgehangen_totaal',\n",
    "                      'Geholpen_buitenland',\n",
    "                      'Geholpen_totaal',\n",
    "                      'Gemiddelde_wachttijd_buitenland',\n",
    "                      'Gemiddelde_wachttijd_totaal']"
   ]
  },
  {
   "cell_type": "code",
   "execution_count": null,
   "id": "f59183aa-f783-4e7e-b05e-fd68d0c3295f",
   "metadata": {},
   "outputs": [],
   "source": [
    "# DF auto\n",
    "df_auto = df_totaal[[ 'Datum', 'Maand', 'Jaar',\n",
    "                    'DagvdWeek', 'Dag', 'WeekNr', \n",
    "                    'Binnengekomen bij Provider',\n",
    "                    'Doorgeleid naar keuzemenu',\n",
    "                    'Door beller opgehangen in menu',\n",
    "                    'Automatisch behandeld in menu',\n",
    "                    'ComplexityScore_auto',\n",
    "                    ('Doorverbindingen', 'AUTO'),\n",
    "                    ('Doorverbindingen', 'TOTAAL'),\n",
    "                    ('Wachtrij', 'AUTO'),\n",
    "                    ('Wachtrij', 'TOTAAL'),\n",
    "                    ('Wachtrij_opgehangen', 'AUTO'),\n",
    "                    ('Wachtrij_opgehangen', 'TOTAAL'),\n",
    "                    ('Geholpen', 'AUTO'),\n",
    "                    ('Geholpen', 'TOTAAL'),\n",
    "                    ('Gemiddelde_wachttijd', 'AUTO'),\n",
    "                    ('Gemiddelde_wachttijd', 'TOTAAL')]]\n",
    "\n",
    "df_auto.columns =  ['Datum', 'Maand', 'Jaar',\n",
    "                      'DagvdWeek', 'Dag', 'WeekNr', \n",
    "                      'Binnengekomen bij Provider',\n",
    "                      'Doorgeleid naar keuzemenu',\n",
    "                      'Door beller opgehangen in menu',\n",
    "                      'Automatisch behandeld in menu',\n",
    "                      'ComplexityScore_auto',\n",
    "                      'Doorverbindingen_auto',\n",
    "                      'Doorverbindingen_totaal',\n",
    "                      'Wachtrij_auto',\n",
    "                      'Wachtrij_totaal',\n",
    "                      'Wachtrij_opgehangen_auto',\n",
    "                      'Wachtrij_opgehangen_totaal',\n",
    "                      'Geholpen_auto',\n",
    "                      'Geholpen_totaal',\n",
    "                      'Gemiddelde_wachttijd_auto',\n",
    "                      'Gemiddelde_wachttijd_totaal']"
   ]
  },
  {
   "cell_type": "code",
   "execution_count": null,
   "id": "58377ce3-a97f-488d-92ee-834c2ce7a83c",
   "metadata": {},
   "outputs": [],
   "source": [
    "# DF intermediairs\n",
    "df_intermediairs = df_totaal[[ 'Datum', 'Maand', 'Jaar',\n",
    "                    'DagvdWeek', 'Dag', 'WeekNr', \n",
    "                    'Binnengekomen bij Provider',\n",
    "                    'Doorgeleid naar keuzemenu',\n",
    "                    'Door beller opgehangen in menu',\n",
    "                    'Automatisch behandeld in menu',\n",
    "                    'ComplexityScore_intermediairs',\n",
    "                    ('Doorverbindingen', 'INTERMEDIAIRS'),\n",
    "                    ('Doorverbindingen', 'TOTAAL'),\n",
    "                    ('Wachtrij', 'INTERMEDIAIRS'),\n",
    "                    ('Wachtrij', 'TOTAAL'),\n",
    "                    ('Wachtrij_opgehangen', 'INTERMEDIAIRS'),\n",
    "                    ('Wachtrij_opgehangen', 'TOTAAL'),\n",
    "                    ('Geholpen', 'INTERMEDIAIRS'),\n",
    "                    ('Geholpen', 'TOTAAL'),\n",
    "                    ('Gemiddelde_wachttijd', 'INTERMEDIAIRS'),\n",
    "                    ('Gemiddelde_wachttijd', 'TOTAAL')]]\n",
    "\n",
    "df_intermediairs.columns =  ['Datum', 'Maand', 'Jaar',\n",
    "                      'DagvdWeek', 'Dag', 'WeekNr', \n",
    "                      'Binnengekomen bij Provider',\n",
    "                      'Doorgeleid naar keuzemenu',\n",
    "                      'Door beller opgehangen in menu',\n",
    "                      'Automatisch behandeld in menu',\n",
    "                      'ComplexityScore_intermediairs',\n",
    "                      'Doorverbindingen_intermediairs',\n",
    "                      'Doorverbindingen_totaal',\n",
    "                      'Wachtrij_intermediairs',\n",
    "                      'Wachtrij_totaal',\n",
    "                      'Wachtrij_opgehangen_intermediairs',\n",
    "                      'Wachtrij_opgehangen_totaal',\n",
    "                      'Geholpen_intermediairs',\n",
    "                      'Geholpen_totaal',\n",
    "                      'Gemiddelde_wachttijd_intermediairs',\n",
    "                      'Gemiddelde_wachttijd_totaal']"
   ]
  },
  {
   "cell_type": "code",
   "execution_count": null,
   "id": "4c5cfdb9-9648-4c1a-9ad7-16f4b9eb4d83",
   "metadata": {},
   "outputs": [],
   "source": [
    "# DF overig\n",
    "df_overig = df_totaal[[ 'Datum', 'Maand', 'Jaar',\n",
    "                    'DagvdWeek', 'Dag', 'WeekNr', \n",
    "                    'Binnengekomen bij Provider',\n",
    "                    'Doorgeleid naar keuzemenu',\n",
    "                    'Door beller opgehangen in menu',\n",
    "                    'Automatisch behandeld in menu',\n",
    "                    'ComplexityScore_overig',\n",
    "                    ('Doorverbindingen', 'OVERIG'),\n",
    "                    ('Doorverbindingen', 'TOTAAL'),\n",
    "                    ('Wachtrij', 'OVERIG'),\n",
    "                    ('Wachtrij', 'TOTAAL'),\n",
    "                    ('Wachtrij_opgehangen', 'OVERIG'),\n",
    "                    ('Wachtrij_opgehangen', 'TOTAAL'),\n",
    "                    ('Geholpen', 'OVERIG'),\n",
    "                    ('Geholpen', 'TOTAAL'),\n",
    "                    ('Gemiddelde_wachttijd', 'OVERIG'),\n",
    "                    ('Gemiddelde_wachttijd', 'TOTAAL')]]\n",
    "\n",
    "df_overig.columns =  ['Datum', 'Maand', 'Jaar',\n",
    "                      'DagvdWeek', 'Dag', 'WeekNr', \n",
    "                      'Binnengekomen bij Provider',\n",
    "                      'Doorgeleid naar keuzemenu',\n",
    "                      'Door beller opgehangen in menu',\n",
    "                      'Automatisch behandeld in menu',\n",
    "                      'ComplexityScore_overig',\n",
    "                      'Doorverbindingen_overig',\n",
    "                      'Doorverbindingen_totaal',\n",
    "                      'Wachtrij_overig',\n",
    "                      'Wachtrij_totaal',\n",
    "                      'Wachtrij_opgehangen_overig',\n",
    "                      'Wachtrij_opgehangen_totaal',\n",
    "                      'Geholpen_overig',\n",
    "                      'Geholpen_totaal',\n",
    "                      'Gemiddelde_wachttijd_overig',\n",
    "                      'Gemiddelde_wachttijd_totaal']"
   ]
  },
  {
   "cell_type": "markdown",
   "id": "c99bbe6f-4156-4ad1-af0b-94524aa9e942",
   "metadata": {},
   "source": [
    "## 2. Data analysis"
   ]
  },
  {
   "cell_type": "markdown",
   "id": "7b4686b1-08c1-439e-8e85-934ae71d80d4",
   "metadata": {},
   "source": [
    "### Trend van inkomende calls jaarlijks\n"
   ]
  },
  {
   "cell_type": "markdown",
   "id": "346e949a-68ef-47b1-9586-9b972a35a571",
   "metadata": {},
   "source": [
    "#### Totaal"
   ]
  },
  {
   "cell_type": "code",
   "execution_count": null,
   "id": "e4c13f01-f829-44c2-af20-07b23519c078",
   "metadata": {},
   "outputs": [],
   "source": [
    "plt.rc(\"axes\", prop_cycle=line_cycler)\n",
    "\n",
    "df_particulieren[(df_particulieren['Datum'] > pd.Timestamp(2019,1,1)) &(df_particulieren['Datum'] < pd.Timestamp(2020,1,1))]\\\n",
    "                .set_index('Datum')[['Doorverbindingen_totaal']]\\\n",
    "                .plot(title=\"Calls totaal 2019\",figsize=(12,8))\n",
    "plt.xticks(rotation = 90)\n",
    "\n",
    "df_particulieren[(df_particulieren['Datum'] > pd.Timestamp(2020,1,1)) &(df_particulieren['Datum'] < pd.Timestamp(2021,1,1))]\\\n",
    "                .set_index('Datum')[['Doorverbindingen_totaal']]\\\n",
    "                .plot(title=\"Calls totaal 2020\",figsize=(12,8))\n",
    "plt.xticks(rotation = 90)\n",
    "\n",
    "df_particulieren[(df_particulieren['Datum'] > pd.Timestamp(2021,1,1)) &(df_particulieren['Datum'] < pd.Timestamp(2022,1,1))]\\\n",
    "                .set_index('Datum')[['Doorverbindingen_totaal']]\\\n",
    "                .plot(title=\"Calls totaal 2021\",figsize=(12,8))\n",
    "plt.xticks(rotation = 90)\n",
    "\n",
    "df_particulieren[(df_particulieren['Datum'] > pd.Timestamp(2022,1,1)) &(df_particulieren['Datum'] < pd.Timestamp(2023,1,1))]\\\n",
    "                .set_index('Datum')[['Doorverbindingen_totaal']]\\\n",
    "                .plot(title=\"Calls totaal 2022\",figsize=(12,8))\n",
    "plt.xticks(rotation = 90)\n",
    "\n",
    "plt.show()"
   ]
  },
  {
   "cell_type": "code",
   "execution_count": null,
   "id": "e03fb12c-1c31-4c12-8459-e3e8007eedc3",
   "metadata": {},
   "outputs": [],
   "source": [
    "df_particulieren['Doorverbindingen_totaal'].mean()"
   ]
  },
  {
   "cell_type": "code",
   "execution_count": null,
   "id": "7a9d4ddb-59e8-4630-9672-8682ef5deff5",
   "metadata": {},
   "outputs": [],
   "source": [
    "plt.figure(figsize = (20, 8))\n",
    "plt.title('Calls totaal 2019/01-2022/09')\n",
    "plt.xlabel('Datum')\n",
    "plt.ylabel('Aantal calls')          \n",
    "\n",
    "plt.plot(df_particulieren[(df_particulieren['Datum'] > pd.Timestamp(2019,1,1)) &(df_particulieren['Datum'] < pd.Timestamp(2020,1,1))].set_index('Datum')[['Doorverbindingen_totaal']],marker=',', label= '2019')\n",
    "plt.plot(df_particulieren[(df_particulieren['Datum'] > pd.Timestamp(2020,1,1)) &(df_particulieren['Datum'] < pd.Timestamp(2021,1,1))].set_index('Datum')[['Doorverbindingen_totaal']],marker = ',',label = '2020')\n",
    "plt.plot(df_particulieren[(df_particulieren['Datum'] > pd.Timestamp(2021,1,1)) &(df_particulieren['Datum'] < pd.Timestamp(2022,1,1))].set_index('Datum')[['Doorverbindingen_totaal']],marker = ',',label = '2021')\n",
    "plt.plot(df_particulieren[(df_particulieren['Datum'] > pd.Timestamp(2022,1,1)) &(df_particulieren['Datum'] < pd.Timestamp(2023,1,1))].set_index('Datum')[['Doorverbindingen_totaal']],marker = ',',label = '2022')\n",
    "\n",
    "df_particulieren['SMA_calls'] = df_particulieren['Doorverbindingen_totaal'].rolling(30).mean()\n",
    "plt.plot(df_particulieren['Datum'], df_particulieren['SMA_calls'], color = 'black')\n",
    "plt.legend()\n"
   ]
  },
  {
   "cell_type": "code",
   "execution_count": null,
   "id": "2e7ffd16-6220-44ca-8ea3-210cb6c68ff3",
   "metadata": {},
   "outputs": [],
   "source": [
    "unieke_jaren = list(df_particulieren['Jaar'].unique())\n",
    "for i, jaren in enumerate(unieke_jaren):\n",
    "    fig, ax = plt.subplots()\n",
    "    fig.set_size_inches((12,4))\n",
    "    ax.set_ylim([0,100000])\n",
    "    sns.boxplot(x = 'Maand', y = 'Doorverbindingen_totaal', data = df_particulieren[df_particulieren['Jaar'] == jaren], ax=ax)\n",
    "    plt.title('Doorverbindingen totaal per maand in ' +str(unieke_jaren[i]))\n",
    "    plt.show()"
   ]
  },
  {
   "cell_type": "markdown",
   "id": "f3603101-51db-4548-9698-e3ffcf15c56d",
   "metadata": {},
   "source": [
    "#### Particulieren"
   ]
  },
  {
   "cell_type": "code",
   "execution_count": null,
   "id": "d77b1ee8-5c72-432c-8d77-acf68ae9b9d9",
   "metadata": {},
   "outputs": [],
   "source": [
    "df_particulieren[(df_particulieren['Datum'] > pd.Timestamp(2019,1,1)) &(df_particulieren['Datum'] < pd.Timestamp(2020,1,1))]\\\n",
    "                .set_index('Datum')[['Doorverbindingen_particulieren']]\\\n",
    "                .plot(title=\"Calls particulieren 2019\",figsize=(12,8))\n",
    "plt.xticks(rotation = 90)\n",
    "\n",
    "df_particulieren[(df_particulieren['Datum'] > pd.Timestamp(2020,1,1)) &(df_particulieren['Datum'] < pd.Timestamp(2021,1,1))]\\\n",
    "                .set_index('Datum')[['Doorverbindingen_particulieren']]\\\n",
    "                .plot(title=\"Calls particulieren 2020\",figsize=(12,8))\n",
    "plt.xticks(rotation = 90)\n",
    "\n",
    "df_particulieren[(df_particulieren['Datum'] > pd.Timestamp(2021,1,1)) &(df_particulieren['Datum'] < pd.Timestamp(2022,1,1))]\\\n",
    "                .set_index('Datum')[['Doorverbindingen_particulieren']]\\\n",
    "                .plot(title=\"Calls particulieren 2021\",figsize=(12,8))\n",
    "plt.xticks(rotation = 90)\n",
    "\n",
    "df_particulieren[(df_particulieren['Datum'] > pd.Timestamp(2022,1,1)) &(df_particulieren['Datum'] < pd.Timestamp(2023,1,1))]\\\n",
    "                .set_index('Datum')[['Doorverbindingen_particulieren']]\\\n",
    "                .plot(title=\"Calls particulieren 2022\",figsize=(12,8))\n",
    "plt.xticks(rotation = 90)\n",
    "\n",
    "plt.show()"
   ]
  },
  {
   "cell_type": "code",
   "execution_count": null,
   "id": "a6d02188-8b86-4407-beec-32d612c33bcc",
   "metadata": {},
   "outputs": [],
   "source": [
    "df_particulieren[df_particulieren['Jaar'] == '2021'][df_particulieren['Maand'] == 'Oct'][['Datum', 'Doorverbindingen_particulieren']]#.max()"
   ]
  },
  {
   "cell_type": "code",
   "execution_count": null,
   "id": "f718a6ee-7077-4d1c-91f0-7ce4df61671e",
   "metadata": {},
   "outputs": [],
   "source": [
    "df_particulieren[df_particulieren['Jaar'] == '2022'][df_particulieren['Maand'] == 'Jun'][['Datum', 'Doorverbindingen_particulieren']]"
   ]
  },
  {
   "cell_type": "code",
   "execution_count": null,
   "id": "ccbf3ef5-eeff-4d67-886c-498da272082b",
   "metadata": {},
   "outputs": [],
   "source": [
    "df_particulieren[df_particulieren['Jaar'] == '2021'][df_particulieren['Doorverbindingen_particulieren'] == 22858]"
   ]
  },
  {
   "cell_type": "code",
   "execution_count": null,
   "id": "69c13479-b844-4ad4-a09f-3061a92f0f44",
   "metadata": {},
   "outputs": [],
   "source": [
    "df_particulieren['Doorverbindingen_particulieren'].mean()"
   ]
  },
  {
   "cell_type": "code",
   "execution_count": null,
   "id": "0c6ca812-0654-43c4-815e-5b34e40462d0",
   "metadata": {},
   "outputs": [],
   "source": [
    "plt.figure(figsize = (20, 8))\n",
    "plt.title('Calls particulieren 2019/01-2022/09')\n",
    "plt.xlabel('Datum')\n",
    "plt.ylabel('Aantal calls')\n",
    "#plt.ylim(0,42000)\n",
    "\n",
    "plt.plot(df_particulieren[(df_particulieren['Datum'] > pd.Timestamp(2019,1,1)) &(df_particulieren['Datum'] < pd.Timestamp(2020,1,1))].set_index('Datum')[['Doorverbindingen_particulieren']],marker=',', label= '2019')\n",
    "plt.plot(df_particulieren[(df_particulieren['Datum'] > pd.Timestamp(2020,1,1)) &(df_particulieren['Datum'] < pd.Timestamp(2021,1,1))].set_index('Datum')[['Doorverbindingen_particulieren']],marker = ',', label = '2020')\n",
    "plt.plot(df_particulieren[(df_particulieren['Datum'] > pd.Timestamp(2021,1,1)) &(df_particulieren['Datum'] < pd.Timestamp(2022,1,1))].set_index('Datum')[['Doorverbindingen_particulieren']],marker = ',', label = '2021')\n",
    "plt.plot(df_particulieren[(df_particulieren['Datum'] > pd.Timestamp(2022,1,1)) &(df_particulieren['Datum'] < pd.Timestamp(2023,1,1))].set_index('Datum')[['Doorverbindingen_particulieren']],marker = ',', label = '2022')\n",
    "\n",
    "df_particulieren['SMA_calls'] = df_particulieren['Doorverbindingen_particulieren'].rolling(30).mean()\n",
    "plt.plot(df_particulieren['Datum'], df_particulieren['SMA_calls'], color = 'black')\n",
    "plt.legend()"
   ]
  },
  {
   "cell_type": "code",
   "execution_count": null,
   "id": "2c69255d-efdf-473e-aeab-574984e1aada",
   "metadata": {},
   "outputs": [],
   "source": [
    "unieke_jaren = list(df_particulieren['Jaar'].unique())\n",
    "for i, jaren in enumerate(unieke_jaren):\n",
    "    fig, ax = plt.subplots()\n",
    "    fig.set_size_inches((12,4))\n",
    "    ax.set_ylim([0,40000])\n",
    "    sns.boxplot(x = 'Maand', y = 'Doorverbindingen_particulieren', data = df_particulieren[df_particulieren['Jaar'] == jaren], ax=ax)\n",
    "    plt.title('Doorverbindingen voor particulieren per maand in ' +str(unieke_jaren[i]))\n",
    "    plt.show()"
   ]
  },
  {
   "cell_type": "markdown",
   "id": "a6ab52f9-a08d-45d7-8c9a-1ac0f7cdf4ca",
   "metadata": {},
   "source": [
    "#### Ondernemingen"
   ]
  },
  {
   "cell_type": "code",
   "execution_count": null,
   "id": "b8a6086d-5b07-45b2-971a-4a7a8a7cdd19",
   "metadata": {},
   "outputs": [],
   "source": [
    "df_ondernemingen[(df_ondernemingen['Datum'] > pd.Timestamp(2019,1,1)) &(df_ondernemingen['Datum'] < pd.Timestamp(2020,1,1))]\\\n",
    "                .set_index('Datum')[['Doorverbindingen_ondernemingen']]\\\n",
    "                .plot(title=\"Calls ondernemingen 2019\",figsize=(12,8))\n",
    "plt.xticks(rotation = 90)\n",
    "\n",
    "df_ondernemingen[(df_ondernemingen['Datum'] > pd.Timestamp(2020,1,1)) &(df_ondernemingen['Datum'] < pd.Timestamp(2021,1,1))]\\\n",
    "                .set_index('Datum')[['Doorverbindingen_ondernemingen']]\\\n",
    "                .plot(title=\"Calls ondernemingen 2020\",figsize=(12,8))\n",
    "plt.xticks(rotation = 90)\n",
    "\n",
    "df_ondernemingen[(df_ondernemingen['Datum'] > pd.Timestamp(2021,1,1)) &(df_ondernemingen['Datum'] < pd.Timestamp(2022,1,1))]\\\n",
    "                .set_index('Datum')[['Doorverbindingen_ondernemingen']]\\\n",
    "                .plot(title=\"Calls ondernemingen 2021\",figsize=(12,8))\n",
    "plt.xticks(rotation = 90)\n",
    "\n",
    "df_ondernemingen[(df_ondernemingen['Datum'] > pd.Timestamp(2022,1,1)) &(df_ondernemingen['Datum'] < pd.Timestamp(2023,1,1))]\\\n",
    "                .set_index('Datum')[['Doorverbindingen_ondernemingen']]\\\n",
    "                .plot(title=\"Calls ondernemingen 2022\",figsize=(12,8))\n",
    "plt.xticks(rotation = 90)\n",
    "\n",
    "plt.show()\n"
   ]
  },
  {
   "cell_type": "code",
   "execution_count": null,
   "id": "9cc5eeca-408e-4fa3-81ca-a9e9d17ed009",
   "metadata": {},
   "outputs": [],
   "source": [
    "plt.figure(figsize = (20, 8))\n",
    "plt.title('Calls ondernemingen 2019/01-2022/09')\n",
    "plt.xlabel('Datum')\n",
    "plt.ylabel('Aantal calls')\n",
    "#plt.ylim(0,42000)\n",
    "\n",
    "plt.plot(df_ondernemingen[(df_ondernemingen['Datum'] > pd.Timestamp(2019,1,1)) &(df_ondernemingen['Datum'] < pd.Timestamp(2020,1,1))].set_index('Datum')[['Doorverbindingen_ondernemingen']],marker=',', label= '2019')\n",
    "plt.plot(df_ondernemingen[(df_ondernemingen['Datum'] > pd.Timestamp(2020,1,1)) &(df_ondernemingen['Datum'] < pd.Timestamp(2021,1,1))].set_index('Datum')[['Doorverbindingen_ondernemingen']],marker = ',', label = '2020')\n",
    "plt.plot(df_ondernemingen[(df_ondernemingen['Datum'] > pd.Timestamp(2021,1,1)) &(df_ondernemingen['Datum'] < pd.Timestamp(2022,1,1))].set_index('Datum')[['Doorverbindingen_ondernemingen']],marker = ',', label = '2021')\n",
    "plt.plot(df_ondernemingen[(df_ondernemingen['Datum'] > pd.Timestamp(2022,1,1)) &(df_ondernemingen['Datum'] < pd.Timestamp(2023,1,1))].set_index('Datum')[['Doorverbindingen_ondernemingen']],marker = ',', label = '2022')\n",
    "\n",
    "df_ondernemingen['SMA_calls'] = df_ondernemingen['Doorverbindingen_ondernemingen'].rolling(30).mean()\n",
    "plt.plot(df_ondernemingen['Datum'], df_ondernemingen['SMA_calls'], color = 'black')\n",
    "\n",
    "plt.legend()\n",
    "# seasonality, residual and randomness"
   ]
  },
  {
   "cell_type": "code",
   "execution_count": null,
   "id": "e0730cd1-c68d-4c21-9b52-b22534525888",
   "metadata": {},
   "outputs": [],
   "source": [
    "df_ondernemingen['Doorverbindingen_ondernemingen'].mean()"
   ]
  },
  {
   "cell_type": "code",
   "execution_count": null,
   "id": "416d2ebc-33e6-4b28-af56-1b7c15898ce8",
   "metadata": {},
   "outputs": [],
   "source": [
    "unieke_jaren = list(df_ondernemingen['Jaar'].unique())\n",
    "for i, jaren in enumerate(unieke_jaren):\n",
    "    fig, ax = plt.subplots()\n",
    "    fig.set_size_inches((12,4))\n",
    "    ax.set_ylim([0,40000])\n",
    "    sns.boxplot(x = 'Maand', y = 'Doorverbindingen_ondernemingen', data = df_ondernemingen[df_ondernemingen['Jaar'] == jaren], ax=ax)\n",
    "    plt.title('Doorverbindingen voor ondernemingen per maand in ' +str(unieke_jaren[i]))\n",
    "    plt.show()"
   ]
  },
  {
   "cell_type": "markdown",
   "id": "35e02fc7-63c6-414e-8af7-f1e336275d95",
   "metadata": {},
   "source": [
    "#### Intermediairs"
   ]
  },
  {
   "cell_type": "code",
   "execution_count": null,
   "id": "88001150-c4ca-4864-a3f0-c3de6bac467c",
   "metadata": {},
   "outputs": [],
   "source": [
    "df_intermediairs[(df_intermediairs['Datum'] > pd.Timestamp(2019,1,1)) &(df_intermediairs['Datum'] < pd.Timestamp(2020,1,1))]\\\n",
    "                .set_index('Datum')[['Doorverbindingen_intermediairs']]\\\n",
    "                .plot(title=\"Calls intermediairs 2019\",figsize=(12,8))\n",
    "plt.xticks(rotation = 90)\n",
    "\n",
    "df_intermediairs[(df_intermediairs['Datum'] > pd.Timestamp(2020,1,1)) &(df_intermediairs['Datum'] < pd.Timestamp(2021,1,1))]\\\n",
    "                .set_index('Datum')[['Doorverbindingen_intermediairs']]\\\n",
    "                .plot(title=\"Calls intermediairs 2020\",figsize=(12,8))\n",
    "plt.xticks(rotation = 90)\n",
    "\n",
    "df_intermediairs[(df_intermediairs['Datum'] > pd.Timestamp(2021,1,1)) &(df_intermediairs['Datum'] < pd.Timestamp(2022,1,1))]\\\n",
    "                .set_index('Datum')[['Doorverbindingen_intermediairs']]\\\n",
    "                .plot(title=\"Calls intermediairs 2021\",figsize=(12,8))\n",
    "plt.xticks(rotation = 90)\n",
    "\n",
    "df_intermediairs[(df_intermediairs['Datum'] > pd.Timestamp(2022,1,1)) &(df_intermediairs['Datum'] < pd.Timestamp(2023,1,1))]\\\n",
    "                .set_index('Datum')[['Doorverbindingen_intermediairs']]\\\n",
    "                .plot(title=\"Calls intermediairs 2022\",figsize=(12,8))\n",
    "plt.xticks(rotation = 90)\n",
    "\n",
    "plt.show()"
   ]
  },
  {
   "cell_type": "code",
   "execution_count": null,
   "id": "e59140f7-0655-4753-9217-ef171d0bff8f",
   "metadata": {},
   "outputs": [],
   "source": [
    "df_intermediairs['Doorverbindingen_intermediairs'].mean()"
   ]
  },
  {
   "cell_type": "code",
   "execution_count": null,
   "id": "fc7f7855-b502-4f90-a689-05b86c841a40",
   "metadata": {},
   "outputs": [],
   "source": [
    "plt.figure(figsize = (20, 8))\n",
    "plt.title('Calls intermediairs 2019/01-2022/09')\n",
    "plt.xlabel('Datum')\n",
    "plt.ylabel('Aantal calls')\n",
    "#plt.ylim(0,42000)\n",
    "\n",
    "plt.plot(df_intermediairs[(df_intermediairs['Datum'] > pd.Timestamp(2019,1,1)) &(df_intermediairs['Datum'] < pd.Timestamp(2020,1,1))].set_index('Datum')[['Doorverbindingen_intermediairs']],marker=',', label= '2019')\n",
    "plt.plot(df_intermediairs[(df_intermediairs['Datum'] > pd.Timestamp(2020,1,1)) &(df_intermediairs['Datum'] < pd.Timestamp(2021,1,1))].set_index('Datum')[['Doorverbindingen_intermediairs']],marker = ',', label = '2020')\n",
    "plt.plot(df_intermediairs[(df_intermediairs['Datum'] > pd.Timestamp(2021,1,1)) &(df_intermediairs['Datum'] < pd.Timestamp(2022,1,1))].set_index('Datum')[['Doorverbindingen_intermediairs']],marker = ',', label = '2021')\n",
    "plt.plot(df_intermediairs[(df_intermediairs['Datum'] > pd.Timestamp(2022,1,1)) &(df_intermediairs['Datum'] < pd.Timestamp(2023,1,1))].set_index('Datum')[['Doorverbindingen_intermediairs']],marker = ',', label = '2022')\n",
    "\n",
    "df_intermediairs['SMA_calls'] = df_intermediairs['Doorverbindingen_intermediairs'].rolling(30).mean()\n",
    "plt.plot(df_intermediairs['Datum'], df_intermediairs['SMA_calls'], color = 'black')\n",
    "\n",
    "plt.legend()"
   ]
  },
  {
   "cell_type": "code",
   "execution_count": null,
   "id": "14ccc490-6744-4b1c-b949-615ee7a6f21c",
   "metadata": {},
   "outputs": [],
   "source": [
    "unieke_jaren = list(df_intermediairs['Jaar'].unique())\n",
    "for i, jaren in enumerate(unieke_jaren):\n",
    "    fig, ax = plt.subplots()\n",
    "    fig.set_size_inches((12,4))\n",
    "    ax.set_ylim([0,10000])\n",
    "    sns.boxplot(x = 'Maand', y = 'Doorverbindingen_intermediairs', data = df_intermediairs[df_intermediairs['Jaar'] == jaren], ax=ax)\n",
    "    plt.title('Doorverbindingen voor intermediairs per maand in ' +str(unieke_jaren[i]))\n",
    "    plt.show()"
   ]
  },
  {
   "cell_type": "markdown",
   "id": "d235ba7f-8bc0-43a3-8ee4-f8d4919f9aa6",
   "metadata": {},
   "source": [
    "#### Toeslagen"
   ]
  },
  {
   "cell_type": "code",
   "execution_count": null,
   "id": "23fb21e5-aa47-491f-847b-37fb49add4eb",
   "metadata": {},
   "outputs": [],
   "source": [
    "df_toeslagen[(df_toeslagen['Datum'] > pd.Timestamp(2019,1,1)) &(df_toeslagen['Datum'] < pd.Timestamp(2020,1,1))]\\\n",
    "                .set_index('Datum')[['Doorverbindingen_toeslagen']]\\\n",
    "                .plot(title=\"Calls toeslagen 2019\",figsize=(12,8))\n",
    "plt.xticks(rotation = 90)\n",
    "\n",
    "df_toeslagen[(df_toeslagen['Datum'] > pd.Timestamp(2020,1,1)) &(df_toeslagen['Datum'] < pd.Timestamp(2021,1,1))]\\\n",
    "                .set_index('Datum')[['Doorverbindingen_toeslagen']]\\\n",
    "                .plot(title=\"Calls toeslagen 2020\",figsize=(12,8))\n",
    "plt.xticks(rotation = 90)\n",
    "\n",
    "df_toeslagen[(df_toeslagen['Datum'] > pd.Timestamp(2021,1,1)) &(df_toeslagen['Datum'] < pd.Timestamp(2022,1,1))]\\\n",
    "                .set_index('Datum')[['Doorverbindingen_toeslagen']]\\\n",
    "                .plot(title=\"Calls toeslagen 2021\",figsize=(12,8))\n",
    "plt.xticks(rotation = 90)\n",
    "\n",
    "df_toeslagen[(df_toeslagen['Datum'] > pd.Timestamp(2022,1,1)) &(df_toeslagen['Datum'] < pd.Timestamp(2023,1,1))]\\\n",
    "                .set_index('Datum')[['Doorverbindingen_toeslagen']]\\\n",
    "                .plot(title=\"Calls toeslagen 2022\",figsize=(12,8))\n",
    "plt.xticks(rotation = 90)\n",
    "\n",
    "plt.show()"
   ]
  },
  {
   "cell_type": "code",
   "execution_count": null,
   "id": "6de9b0a3-949d-4cda-a7a5-f3242144ba5b",
   "metadata": {},
   "outputs": [],
   "source": [
    "print('mean: ', df_toeslagen['Doorverbindingen_toeslagen'].mean())\n",
    "print('max: ', df_toeslagen['Doorverbindingen_toeslagen'].max())\n",
    "print('min: ', df_toeslagen['Doorverbindingen_toeslagen'].min())"
   ]
  },
  {
   "cell_type": "code",
   "execution_count": null,
   "id": "d2459537-8896-46ea-b75e-6de7ce5ced47",
   "metadata": {},
   "outputs": [],
   "source": [
    "df_toeslagen[df_toeslagen['Doorverbindingen_toeslagen'] == df_toeslagen['Doorverbindingen_toeslagen'].max()]"
   ]
  },
  {
   "cell_type": "code",
   "execution_count": null,
   "id": "bb02c811-8d2d-460c-bfb3-1cbaa5e41a67",
   "metadata": {},
   "outputs": [],
   "source": [
    "df_toeslagen[df_toeslagen['Jaar'] == '2019'][df_toeslagen['Maand'] == 'Dec']"
   ]
  },
  {
   "cell_type": "code",
   "execution_count": null,
   "id": "4f0cfb87-0543-43ba-b0b1-28db5b4936e0",
   "metadata": {},
   "outputs": [],
   "source": [
    "plt.figure(figsize = (20, 8))\n",
    "plt.title('Calls toeslagen 2019/01-2022/09')\n",
    "plt.xlabel('Datum')\n",
    "plt.ylabel('Aantal calls')\n",
    "#plt.ylim(0,42000)\n",
    "\n",
    "plt.plot(df_toeslagen[(df_toeslagen['Datum'] > pd.Timestamp(2019,1,1)) &(df_toeslagen['Datum'] < pd.Timestamp(2020,1,1))].set_index('Datum')[['Doorverbindingen_toeslagen']],marker=',', label= '2019')\n",
    "plt.plot(df_toeslagen[(df_toeslagen['Datum'] > pd.Timestamp(2020,1,1)) &(df_toeslagen['Datum'] < pd.Timestamp(2021,1,1))].set_index('Datum')[['Doorverbindingen_toeslagen']],marker = ',', label = '2020')\n",
    "plt.plot(df_toeslagen[(df_toeslagen['Datum'] > pd.Timestamp(2021,1,1)) &(df_toeslagen['Datum'] < pd.Timestamp(2022,1,1))].set_index('Datum')[['Doorverbindingen_toeslagen']],marker = ',', label = '2021')\n",
    "plt.plot(df_toeslagen[(df_toeslagen['Datum'] > pd.Timestamp(2022,1,1)) &(df_toeslagen['Datum'] < pd.Timestamp(2023,1,1))].set_index('Datum')[['Doorverbindingen_toeslagen']],marker = ',', label = '2022')\n",
    "\n",
    "df_toeslagen['SMA_calls'] = df_toeslagen['Doorverbindingen_toeslagen'].rolling(30).mean()\n",
    "plt.plot(df_toeslagen['Datum'], df_toeslagen['SMA_calls'], color = 'black')\n",
    "\n",
    "plt.legend()"
   ]
  },
  {
   "cell_type": "code",
   "execution_count": null,
   "id": "1ae87cfd-c834-441c-bae8-2a36af5b9f9d",
   "metadata": {},
   "outputs": [],
   "source": [
    "unieke_jaren = list(df_toeslagen['Jaar'].unique())\n",
    "for i, jaren in enumerate(unieke_jaren):\n",
    "    fig, ax = plt.subplots()\n",
    "    fig.set_size_inches((12,4))\n",
    "    ax.set_ylim([0,40000])\n",
    "    sns.boxplot(x = 'Maand', y = 'Doorverbindingen_toeslagen', data = df_toeslagen[df_toeslagen['Jaar'] == jaren], ax=ax)\n",
    "    plt.title('Doorverbindingen voor toeslagen per maand in ' +str(unieke_jaren[i]))\n",
    "    plt.show()"
   ]
  },
  {
   "cell_type": "markdown",
   "id": "bb02584e-9d2f-49ff-8a1f-b289f33139a5",
   "metadata": {
    "toc-hr-collapsed": true
   },
   "source": [
    "#### Auto"
   ]
  },
  {
   "cell_type": "code",
   "execution_count": null,
   "id": "3c256d58-af27-45b7-a5ab-869865398082",
   "metadata": {},
   "outputs": [],
   "source": [
    "df_auto[(df_auto['Datum'] > pd.Timestamp(2019,1,1)) &(df_auto['Datum'] < pd.Timestamp(2020,1,1))]\\\n",
    "                .set_index('Datum')[['Doorverbindingen_auto']]\\\n",
    "                .plot(title=\"Calls auto 2019\",figsize=(12,8))\n",
    "plt.xticks(rotation = 90)\n",
    "\n",
    "df_auto[(df_auto['Datum'] > pd.Timestamp(2020,1,1)) &(df_auto['Datum'] < pd.Timestamp(2021,1,1))]\\\n",
    "                .set_index('Datum')[['Doorverbindingen_auto']]\\\n",
    "                .plot(title=\"Calls auto 2020\",figsize=(12,8))\n",
    "plt.xticks(rotation = 90)\n",
    "\n",
    "df_auto[(df_auto['Datum'] > pd.Timestamp(2021,1,1)) &(df_auto['Datum'] < pd.Timestamp(2022,1,1))]\\\n",
    "                .set_index('Datum')[['Doorverbindingen_auto']]\\\n",
    "                .plot(title=\"Calls auto 2021\",figsize=(12,8))\n",
    "plt.xticks(rotation = 90)\n",
    "\n",
    "df_auto[(df_auto['Datum'] > pd.Timestamp(2022,1,1)) &(df_auto['Datum'] < pd.Timestamp(2023,1,1))]\\\n",
    "                .set_index('Datum')[['Doorverbindingen_auto']]\\\n",
    "                .plot(title=\"Calls auto 2022\",figsize=(12,8))\n",
    "plt.xticks(rotation = 90)\n",
    "\n",
    "plt.show() "
   ]
  },
  {
   "cell_type": "code",
   "execution_count": null,
   "id": "e4d40e1e-3864-46f2-ba08-2f4a129c73f7",
   "metadata": {},
   "outputs": [],
   "source": [
    "print('mean: ', df_auto['Doorverbindingen_auto'].mean())\n",
    "print('max: ', df_auto['Doorverbindingen_auto'].max())\n",
    "print('min: ', df_auto['Doorverbindingen_auto'].min())"
   ]
  },
  {
   "cell_type": "code",
   "execution_count": null,
   "id": "91d06790-fd63-48f7-9c30-2f91b509b67c",
   "metadata": {},
   "outputs": [],
   "source": [
    "df_auto[df_auto['Doorverbindingen_auto'] == df_auto['Doorverbindingen_auto'].max()]"
   ]
  },
  {
   "cell_type": "code",
   "execution_count": null,
   "id": "574c346f-60fc-453d-9498-96e4b3cc1188",
   "metadata": {
    "tags": []
   },
   "outputs": [],
   "source": [
    "plt.figure(figsize = (20, 8))\n",
    "plt.title('Calls auto 2019/01-2022/09')\n",
    "plt.xlabel('Datum')\n",
    "plt.ylabel('Aantal calls')\n",
    "#plt.ylim(0,42000)\n",
    "\n",
    "plt.plot(df_auto[(df_auto['Datum'] > pd.Timestamp(2019,1,1)) &(df_auto['Datum'] < pd.Timestamp(2020,1,1))].set_index('Datum')[['Doorverbindingen_auto']],marker=',', label= '2019')\n",
    "plt.plot(df_auto[(df_auto['Datum'] > pd.Timestamp(2020,1,1)) &(df_auto['Datum'] < pd.Timestamp(2021,1,1))].set_index('Datum')[['Doorverbindingen_auto']],marker = ',', label = '2020')\n",
    "plt.plot(df_auto[(df_auto['Datum'] > pd.Timestamp(2021,1,1)) &(df_auto['Datum'] < pd.Timestamp(2022,1,1))].set_index('Datum')[['Doorverbindingen_auto']],marker = ',', label = '2021')\n",
    "plt.plot(df_auto[(df_auto['Datum'] > pd.Timestamp(2022,1,1)) &(df_auto['Datum'] < pd.Timestamp(2023,1,1))].set_index('Datum')[['Doorverbindingen_auto']],marker = ',', label = '2022')\n",
    "\n",
    "df_auto['SMA_calls'] = df_auto['Doorverbindingen_auto'].rolling(30).mean()\n",
    "plt.plot(df_auto['Datum'], df_auto['SMA_calls'], color = 'black')\n",
    "\n",
    "plt.legend()"
   ]
  },
  {
   "cell_type": "code",
   "execution_count": null,
   "id": "70d81a4f-26b7-42b5-8182-28d974212931",
   "metadata": {},
   "outputs": [],
   "source": [
    "unieke_jaren = list(df_auto['Jaar'].unique())\n",
    "for i, jaren in enumerate(unieke_jaren):\n",
    "    fig, ax = plt.subplots()\n",
    "    fig.set_size_inches((12,4))\n",
    "    ax.set_ylim([0,10000])\n",
    "    sns.boxplot(x = 'Maand', y = 'Doorverbindingen_auto', data = df_auto[df_auto['Jaar'] == jaren], ax=ax)\n",
    "    plt.title('Doorverbindingen voor auto per maand in ' +str(unieke_jaren[i]))\n",
    "    plt.show()"
   ]
  },
  {
   "cell_type": "markdown",
   "id": "b800987f-74af-4507-b2ce-e5d784c9efbf",
   "metadata": {},
   "source": [
    "#### Buitenland"
   ]
  },
  {
   "cell_type": "code",
   "execution_count": null,
   "id": "21096f34-8e36-4c60-b18b-d1b1d5ba60d4",
   "metadata": {},
   "outputs": [],
   "source": [
    "df_buitenland[(df_buitenland['Datum'] > pd.Timestamp(2019,1,1)) &(df_buitenland['Datum'] < pd.Timestamp(2020,1,1))]\\\n",
    "                .set_index('Datum')[['Doorverbindingen_buitenland']]\\\n",
    "                .plot(title=\"Calls buitenland 2019\",figsize=(12,8))\n",
    "plt.xticks(rotation = 90)\n",
    "\n",
    "df_buitenland[(df_buitenland['Datum'] > pd.Timestamp(2020,1,1)) &(df_buitenland['Datum'] < pd.Timestamp(2021,1,1))]\\\n",
    "                .set_index('Datum')[['Doorverbindingen_buitenland']]\\\n",
    "                .plot(title=\"Calls buitenland 2020\",figsize=(12,8))\n",
    "plt.xticks(rotation = 90)\n",
    "\n",
    "df_buitenland[(df_buitenland['Datum'] > pd.Timestamp(2021,1,1)) &(df_buitenland['Datum'] < pd.Timestamp(2022,1,1))]\\\n",
    "                .set_index('Datum')[['Doorverbindingen_buitenland']]\\\n",
    "                .plot(title=\"Calls buitenland 2021\",figsize=(12,8))\n",
    "plt.xticks(rotation = 90)\n",
    "\n",
    "df_buitenland[(df_buitenland['Datum'] > pd.Timestamp(2022,1,1)) &(df_buitenland['Datum'] < pd.Timestamp(2023,1,1))]\\\n",
    "                .set_index('Datum')[['Doorverbindingen_buitenland']]\\\n",
    "                .plot(title=\"Calls buitenland 2022\",figsize=(12,8))\n",
    "plt.xticks(rotation = 90)\n",
    "\n",
    "plt.show() "
   ]
  },
  {
   "cell_type": "code",
   "execution_count": null,
   "id": "5cbf4fc9-2ea2-4a07-97da-d5529886eb9a",
   "metadata": {},
   "outputs": [],
   "source": [
    "print('mean: ', df_buitenland['Doorverbindingen_buitenland'].mean())\n",
    "print('max: ', df_buitenland['Doorverbindingen_buitenland'].max())\n",
    "print('min: ', df_buitenland['Doorverbindingen_buitenland'].min())"
   ]
  },
  {
   "cell_type": "code",
   "execution_count": null,
   "id": "7789d326-ef54-459e-8c66-e1bd189fd4df",
   "metadata": {},
   "outputs": [],
   "source": [
    "plt.figure(figsize = (20, 8))\n",
    "plt.title('Calls buitenland 2019/01-2022/09')\n",
    "plt.xlabel('Datum')\n",
    "plt.ylabel('Aantal calls')\n",
    "#plt.ylim(0,42000)\n",
    "\n",
    "plt.plot(df_buitenland[(df_buitenland['Datum'] > pd.Timestamp(2019,1,1)) &(df_buitenland['Datum'] < pd.Timestamp(2020,1,1))].set_index('Datum')[['Doorverbindingen_buitenland']],marker=',', label= '2019')\n",
    "plt.plot(df_buitenland[(df_buitenland['Datum'] > pd.Timestamp(2020,1,1)) &(df_buitenland['Datum'] < pd.Timestamp(2021,1,1))].set_index('Datum')[['Doorverbindingen_buitenland']],marker = ',', label = '2020')\n",
    "plt.plot(df_buitenland[(df_buitenland['Datum'] > pd.Timestamp(2021,1,1)) &(df_buitenland['Datum'] < pd.Timestamp(2022,1,1))].set_index('Datum')[['Doorverbindingen_buitenland']],marker = ',', label = '2021')\n",
    "plt.plot(df_buitenland[(df_buitenland['Datum'] > pd.Timestamp(2022,1,1)) &(df_buitenland['Datum'] < pd.Timestamp(2023,1,1))].set_index('Datum')[['Doorverbindingen_buitenland']],marker = ',', label = '2022')\n",
    "\n",
    "df_buitenland['SMA_calls'] = df_buitenland['Doorverbindingen_buitenland'].rolling(30).mean()\n",
    "plt.plot(df_buitenland['Datum'], df_buitenland['SMA_calls'], color = 'black')\n",
    "\n",
    "plt.legend()"
   ]
  },
  {
   "cell_type": "code",
   "execution_count": null,
   "id": "b6977279-d375-4678-ac11-5e14a84917a6",
   "metadata": {},
   "outputs": [],
   "source": [
    "unieke_jaren = list(df_buitenland['Jaar'].unique())\n",
    "for i, jaren in enumerate(unieke_jaren):\n",
    "    fig, ax = plt.subplots()\n",
    "    fig.set_size_inches((12,4))\n",
    "    ax.set_ylim([0,10000])\n",
    "    sns.boxplot(x = 'Maand', y = 'Doorverbindingen_buitenland', data = df_buitenland[df_buitenland['Jaar'] == jaren], ax=ax)\n",
    "    plt.title('Doorverbindingen voor buitenland per maand in ' +str(unieke_jaren[i]))\n",
    "    plt.show()"
   ]
  },
  {
   "cell_type": "markdown",
   "id": "1c577baa-0257-4806-9bd9-650d6a54e472",
   "metadata": {},
   "source": [
    "#### Overig"
   ]
  },
  {
   "cell_type": "code",
   "execution_count": null,
   "id": "5a74f97e-d441-4070-9b17-52761f7a2cde",
   "metadata": {},
   "outputs": [],
   "source": [
    "df_overig[(df_overig['Datum'] > pd.Timestamp(2019,1,1)) &(df_overig['Datum'] < pd.Timestamp(2020,1,1))]\\\n",
    "                .set_index('Datum')[['Doorverbindingen_overig']]\\\n",
    "                .plot(title=\"Calls overig 2019\",figsize=(12,8))\n",
    "plt.xticks(rotation = 90)\n",
    "\n",
    "df_overig[(df_overig['Datum'] > pd.Timestamp(2020,1,1)) &(df_overig['Datum'] < pd.Timestamp(2021,1,1))]\\\n",
    "                .set_index('Datum')[['Doorverbindingen_overig']]\\\n",
    "                .plot(title=\"Calls overig 2020\",figsize=(12,8))\n",
    "plt.xticks(rotation = 90)\n",
    "\n",
    "df_overig[(df_overig['Datum'] > pd.Timestamp(2021,1,1)) &(df_overig['Datum'] < pd.Timestamp(2022,1,1))]\\\n",
    "                .set_index('Datum')[['Doorverbindingen_overig']]\\\n",
    "                .plot(title=\"Calls overig 2021\",figsize=(12,8))\n",
    "plt.xticks(rotation = 90)\n",
    "\n",
    "df_overig[(df_overig['Datum'] > pd.Timestamp(2022,1,1)) &(df_overig['Datum'] < pd.Timestamp(2023,1,1))]\\\n",
    "                .set_index('Datum')[['Doorverbindingen_overig']]\\\n",
    "                .plot(title=\"Calls overig 2022\",figsize=(12,8))\n",
    "plt.xticks(rotation = 90)\n",
    "\n",
    "plt.show() "
   ]
  },
  {
   "cell_type": "code",
   "execution_count": null,
   "id": "836071cc-6dde-457e-b75c-920cbc36eb02",
   "metadata": {},
   "outputs": [],
   "source": [
    "plt.figure(figsize = (20, 8))\n",
    "plt.title('Calls overig 2019/01-2022/09')\n",
    "plt.xlabel('Datum')\n",
    "plt.ylabel('Aantal calls')\n",
    "#plt.ylim(0,42000)\n",
    "\n",
    "plt.plot(df_overig[(df_overig['Datum'] > pd.Timestamp(2019,1,1)) &(df_overig['Datum'] < pd.Timestamp(2020,1,1))].set_index('Datum')[['Doorverbindingen_overig']],marker=',', label= '2019')\n",
    "plt.plot(df_overig[(df_overig['Datum'] > pd.Timestamp(2020,1,1)) &(df_overig['Datum'] < pd.Timestamp(2021,1,1))].set_index('Datum')[['Doorverbindingen_overig']],marker = ',', label = '2020')\n",
    "plt.plot(df_overig[(df_overig['Datum'] > pd.Timestamp(2021,1,1)) &(df_overig['Datum'] < pd.Timestamp(2022,1,1))].set_index('Datum')[['Doorverbindingen_overig']],marker = ',', label = '2021')\n",
    "plt.plot(df_overig[(df_overig['Datum'] > pd.Timestamp(2022,1,1)) &(df_overig['Datum'] < pd.Timestamp(2023,1,1))].set_index('Datum')[['Doorverbindingen_overig']],marker = ',', label = '2022')\n",
    "\n",
    "df_overig['SMA_calls'] = df_overig['Doorverbindingen_overig'].rolling(30).mean()\n",
    "plt.plot(df_overig['Datum'], df_overig['SMA_calls'], color = 'black')\n",
    "\n",
    "plt.legend()"
   ]
  },
  {
   "cell_type": "code",
   "execution_count": null,
   "id": "5a6d1f68-4037-442f-b962-4c44e3b2b337",
   "metadata": {},
   "outputs": [],
   "source": [
    "df_overig['Doorverbindingen_overig'].mean()"
   ]
  },
  {
   "cell_type": "code",
   "execution_count": null,
   "id": "4ce977a4-3dd6-43d0-b815-6232a5097f2b",
   "metadata": {},
   "outputs": [],
   "source": [
    "unieke_jaren = list(df_overig['Jaar'].unique())\n",
    "for i, jaren in enumerate(unieke_jaren):\n",
    "    fig, ax = plt.subplots()\n",
    "    fig.set_size_inches((12,4))\n",
    "    ax.set_ylim([0,10000])\n",
    "    sns.boxplot(x = 'Maand', y = 'Doorverbindingen_overig', data = df_overig[df_overig['Jaar'] == jaren], ax=ax)\n",
    "    plt.title('Doorverbindingen voor overig per maand in ' +str(unieke_jaren[i]))\n",
    "    plt.show()"
   ]
  },
  {
   "cell_type": "markdown",
   "id": "7886376b-058b-4d07-8ea3-6b08f229d38a",
   "metadata": {},
   "source": [
    "### Trend van ophangers t.o.v. wachttijd"
   ]
  },
  {
   "cell_type": "code",
   "execution_count": null,
   "id": "a15c0f08-20a6-4a87-ad28-29a83337aae3",
   "metadata": {},
   "outputs": [],
   "source": [
    "df_particulieren[(df_particulieren['Datum'] > pd.Timestamp(2019,1,1)) &(df_particulieren['Datum'] < pd.Timestamp(2020,1,1))]\\\n",
    "                .set_index('Datum')[['Wachtrij_opgehangen_totaal', 'Gemiddelde_wachttijd_totaal']]\\\n",
    "                .plot(title=\"Ophangers vs wachttijd totaal 2019\",figsize=(12,8))\n",
    "plt.xticks(rotation = 90)\n",
    "\n",
    "df_particulieren[(df_particulieren['Datum'] > pd.Timestamp(2020,1,1)) &(df_particulieren['Datum'] < pd.Timestamp(2021,1,1))]\\\n",
    "                .set_index('Datum')[['Wachtrij_opgehangen_totaal', 'Gemiddelde_wachttijd_totaal']]\\\n",
    "                .plot(title=\"Ophangers vs wachttijd totaal 2020\",figsize=(12,8))\n",
    "plt.xticks(rotation = 90)\n",
    "\n",
    "df_particulieren[(df_particulieren['Datum'] > pd.Timestamp(2021,1,1)) &(df_particulieren['Datum'] < pd.Timestamp(2022,1,1))]\\\n",
    "                .set_index('Datum')[['Wachtrij_opgehangen_totaal', 'Gemiddelde_wachttijd_totaal']]\\\n",
    "                .plot(title=\"Ophangers vs wachttijd totaal 2021\",figsize=(12,8))\n",
    "plt.xticks(rotation = 90)\n",
    "\n",
    "df_particulieren[(df_particulieren['Datum'] > pd.Timestamp(2022,1,1)) &(df_particulieren['Datum'] < pd.Timestamp(2023,1,1))]\\\n",
    "                .set_index('Datum')[['Wachtrij_opgehangen_totaal', 'Gemiddelde_wachttijd_totaal']]\\\n",
    "                .plot(title=\"Ophangers vs wachttijd totaal 2022\",figsize=(12,8))\n",
    "plt.xticks(rotation = 90)\n",
    "\n",
    "plt.show()"
   ]
  },
  {
   "cell_type": "markdown",
   "id": "a3320525-f24a-4399-a1a3-63b769a144d7",
   "metadata": {},
   "source": [
    "### Trend van inkomende calls t.o.v. ophangers"
   ]
  },
  {
   "cell_type": "code",
   "execution_count": null,
   "id": "c6d2bc3c-615b-4d2e-b548-aed8965c6489",
   "metadata": {},
   "outputs": [],
   "source": [
    "df_particulieren[(df_particulieren['Datum'] > pd.Timestamp(2019,1,1)) &(df_particulieren['Datum'] < pd.Timestamp(2020,1,1))]\\\n",
    "                .set_index('Datum')[['Doorgeleid naar keuzemenu', 'Wachtrij_opgehangen_totaal']]\\\n",
    "                .plot(title=\"Calls vs ophangers 2019\",figsize=(12,8))\n",
    "plt.xticks(rotation = 90)\n",
    "\n",
    "df_particulieren[(df_particulieren['Datum'] > pd.Timestamp(2020,1,1)) &(df_particulieren['Datum'] < pd.Timestamp(2021,1,1))]\\\n",
    "                .set_index('Datum')[['Doorgeleid naar keuzemenu', 'Wachtrij_opgehangen_totaal']]\\\n",
    "                .plot(title=\"Calls vs ophangers 2020\",figsize=(12,8))\n",
    "plt.xticks(rotation = 90)\n",
    "\n",
    "df_particulieren[(df_particulieren['Datum'] > pd.Timestamp(2021,1,1)) &(df_particulieren['Datum'] < pd.Timestamp(2022,1,1))]\\\n",
    "                .set_index('Datum')[['Doorgeleid naar keuzemenu', 'Wachtrij_opgehangen_totaal']]\\\n",
    "                .plot(title=\"Calls vs ophangers 2021\",figsize=(12,8))\n",
    "plt.xticks(rotation = 90)\n",
    "\n",
    "df_particulieren[(df_particulieren['Datum'] > pd.Timestamp(2022,1,1)) &(df_particulieren['Datum'] < pd.Timestamp(2023,1,1))]\\\n",
    "                .set_index('Datum')[['Doorgeleid naar keuzemenu', 'Wachtrij_opgehangen_totaal']]\\\n",
    "                .plot(title=\"Calls vs ophangers 2022\",figsize=(12,8))\n",
    "plt.xticks(rotation = 90)\n",
    "\n",
    "plt.show()"
   ]
  },
  {
   "cell_type": "code",
   "execution_count": null,
   "id": "e332fe46-54e0-46e3-b8dd-a69b3f2f2110",
   "metadata": {},
   "outputs": [],
   "source": [
    "df_particulieren.columns"
   ]
  },
  {
   "cell_type": "markdown",
   "id": "b60832aa-2242-44e7-975a-a6b1b70b9b97",
   "metadata": {},
   "source": [
    "### Vergelijking trends in geholpen bellers tussen categorieen"
   ]
  },
  {
   "cell_type": "code",
   "execution_count": null,
   "id": "02794600-e8f5-4d69-a46d-f60b7454798b",
   "metadata": {},
   "outputs": [],
   "source": [
    "plt.figure(figsize = (20, 8))\n",
    "plt.title('Calls per thema 2019/01-2022/09')\n",
    "plt.xlabel('Datum')\n",
    "plt.ylabel('Aantal calls') \n",
    "\n",
    "#plt.plot(df_particulieren['Datum'], df_particulieren['Geholpen_totaal'], marker=',', color='black', label= 'Particulieren')\n",
    "plt.plot(df_particulieren['Datum'], df_particulieren['Geholpen_particulieren'], color='green', label= 'Particulieren')\n",
    "plt.plot(df_ondernemingen['Datum'], df_ondernemingen['Geholpen_ondernemingen'], color = 'red',label = 'Ondernemingen')\n",
    "plt.plot(df_auto['Datum'], df_auto['Geholpen_auto'], color='blue', label= 'Auto')\n",
    "plt.plot(df_intermediairs['Datum'], df_intermediairs['Geholpen_intermediairs'], color = 'yellow',label = 'Intermediairs')\n",
    "plt.plot(df_buitenland['Datum'], df_buitenland['Geholpen_buitenland'], color = 'orange',label = 'Buitenland')\n",
    "plt.plot(df_toeslagen['Datum'], df_toeslagen['Geholpen_toeslagen'], color='purple', label= 'Toeslagen')\n",
    "plt.plot(df_overig['Datum'], df_overig['Geholpen_overig'], color = 'brown',label = 'Overig')\n",
    "plt.legend()"
   ]
  },
  {
   "cell_type": "code",
   "execution_count": null,
   "id": "efd28872-4df7-4f0c-b34a-79d998af7442",
   "metadata": {},
   "outputs": [],
   "source": [
    "plt.figure(figsize = (20, 8))\n",
    "plt.title('Calls per thema 2019/01-2022/09')\n",
    "plt.xlabel('Datum')\n",
    "plt.ylabel('Aantal calls') \n",
    "\n",
    "#plt.plot(df_particulieren['Datum'], df_particulieren['Geholpen_totaal'], marker=',', color='black', label= 'Particulieren')\n",
    "plt.plot(df_particulieren['Datum'], df_particulieren['Geholpen_particulieren'], label= 'Particulieren')\n",
    "plt.plot(df_ondernemingen['Datum'], df_ondernemingen['Geholpen_ondernemingen'], label = 'Ondernemingen')\n",
    "plt.plot(df_auto['Datum'], df_auto['Geholpen_auto'], label= 'Auto')\n",
    "plt.plot(df_intermediairs['Datum'], df_intermediairs['Geholpen_intermediairs'], label = 'Intermediairs')\n",
    "plt.plot(df_buitenland['Datum'], df_buitenland['Geholpen_buitenland'], label = 'Buitenland')\n",
    "plt.plot(df_toeslagen['Datum'], df_toeslagen['Geholpen_toeslagen'], label= 'Toeslagen')\n",
    "plt.plot(df_overig['Datum'], df_overig['Geholpen_overig'], label = 'Overig')\n",
    "plt.legend()"
   ]
  },
  {
   "cell_type": "markdown",
   "id": "4619a121-b378-4b7e-b20c-2bf9e0c95da5",
   "metadata": {},
   "source": [
    "### Vergelijking trends in bellers tussen categorieen"
   ]
  },
  {
   "cell_type": "code",
   "execution_count": null,
   "id": "7605e826-5797-4819-8195-b74a6997c00a",
   "metadata": {},
   "outputs": [],
   "source": [
    "plt.figure(figsize = (20, 8))\n",
    "plt.plot(df_particulieren['Datum'], df_particulieren['Doorverbindingen_particulieren'], color='green', label= 'Particulieren')\n",
    "plt.plot(df_ondernemingen['Datum'], df_ondernemingen['Doorverbindingen_ondernemingen'], color = 'red',label = 'Ondernemingen')\n",
    "plt.plot(df_auto['Datum'], df_auto['Doorverbindingen_auto'], color='indianred', label= 'blue')\n",
    "plt.plot(df_intermediairs['Datum'], df_intermediairs['Doorverbindingen_intermediairs'], color = 'yellow',label = 'Intermediairs')\n",
    "plt.plot(df_buitenland['Datum'], df_buitenland['Doorverbindingen_buitenland'], color = 'orange',label = 'Buitenland')\n",
    "plt.plot(df_toeslagen['Datum'], df_toeslagen['Doorverbindingen_toeslagen'], color='purple', label= 'Toeslagen')\n",
    "plt.plot(df_overig['Datum'], df_overig['Doorverbindingen_overig'], color = 'brown',label = 'Overig')\n",
    "plt.legend()"
   ]
  },
  {
   "cell_type": "code",
   "execution_count": null,
   "id": "d31c0b3f-44bb-49f6-aa0d-d5b90d3c0977",
   "metadata": {},
   "outputs": [],
   "source": [
    "plt.figure(figsize = (20, 8))\n",
    "plt.plot(df_particulieren['Datum'], df_particulieren['Doorverbindingen_particulieren'], label= 'Particulieren')\n",
    "plt.plot(df_ondernemingen['Datum'], df_ondernemingen['Doorverbindingen_ondernemingen'], label = 'Ondernemingen')\n",
    "plt.plot(df_auto['Datum'], df_auto['Doorverbindingen_auto'], label= 'blue')\n",
    "plt.plot(df_intermediairs['Datum'], df_intermediairs['Doorverbindingen_intermediairs'], label = 'Intermediairs')\n",
    "plt.plot(df_buitenland['Datum'], df_buitenland['Doorverbindingen_buitenland'], label = 'Buitenland')\n",
    "plt.plot(df_toeslagen['Datum'], df_toeslagen['Doorverbindingen_toeslagen'], label= 'Toeslagen')\n",
    "plt.plot(df_overig['Datum'], df_overig['Doorverbindingen_overig'], label = 'Overig')\n",
    "plt.legend()"
   ]
  },
  {
   "cell_type": "markdown",
   "id": "05ab7483-b38b-4337-934d-f663e15445ab",
   "metadata": {},
   "source": [
    "### Moving average of calls"
   ]
  },
  {
   "cell_type": "code",
   "execution_count": null,
   "id": "fcb0a531-671f-4760-b9de-8e5fd9f23ea1",
   "metadata": {},
   "outputs": [],
   "source": [
    "df_particulieren['SMA_calls'] = df_particulieren['Doorverbindingen_particulieren'].rolling(30).mean()#.dropna()"
   ]
  },
  {
   "cell_type": "code",
   "execution_count": null,
   "id": "bd841687-efb1-4ddf-8fb2-8a9da48b3d73",
   "metadata": {},
   "outputs": [],
   "source": [
    "plt.figure(figsize = (20,8))\n",
    "plt.plot(df_particulieren['Datum'], df_particulieren['Doorverbindingen_particulieren'])\n",
    "plt.plot(df_particulieren['Datum'], df_particulieren['SMA_calls'])\n",
    "# added moving averages to call plots "
   ]
  },
  {
   "cell_type": "markdown",
   "id": "6408fa62-adee-4cec-ba4c-f71bcd85b802",
   "metadata": {},
   "source": [
    "### Complexity score"
   ]
  },
  {
   "cell_type": "markdown",
   "id": "80e503fe-0b38-45d6-97c7-22895cdfb3b0",
   "metadata": {},
   "source": [
    "#### Correlations in data with complexity score"
   ]
  },
  {
   "cell_type": "code",
   "execution_count": null,
   "id": "85efaa3c-99a2-41b3-9d09-7507134c0499",
   "metadata": {},
   "outputs": [],
   "source": [
    "df_totaal['ComplexityScore_ondernemingen']"
   ]
  },
  {
   "cell_type": "code",
   "execution_count": null,
   "id": "22ea5d6d-9756-41dc-9e62-8b38aa1b330b",
   "metadata": {},
   "outputs": [],
   "source": [
    "df_ranked_calls = df_totaal[[('Doorverbindingen', 'AUTO'),\n",
    "                            ('Doorverbindingen', 'BUITENLAND'),\n",
    "                            ('Doorverbindingen', 'INTERMEDIAIRS'),\n",
    "                            ('Doorverbindingen', 'ONDERNEMINGEN'),\n",
    "                            ('Doorverbindingen', 'OVERIG'),\n",
    "                            ('Doorverbindingen', 'PARTICULIEREN'),\n",
    "                            ('Doorverbindingen', 'TOESLAGEN'),\n",
    "                            ]].rank(axis =1, method = 'average', ascending = False)\n",
    "\n",
    "df_ranked_calls.plot(figsize = (8,6), title = 'Rank per thema per dag', xlabel = 'Tijd in dagen', ylabel = 'Rank')\n",
    "plt.legend(bbox_to_anchor=(1.05, 1), loc=2, borderaxespad=0.)"
   ]
  },
  {
   "cell_type": "code",
   "execution_count": null,
   "id": "18d68339-0c13-4a91-8e33-999215a3bbb9",
   "metadata": {},
   "outputs": [],
   "source": [
    "df_rank = pd.DataFrame({'Rank':df_totaal[[('Doorverbindingen', 'AUTO'),\n",
    "              ('Doorverbindingen', 'BUITENLAND'),\n",
    "           ('Doorverbindingen', 'INTERMEDIAIRS'),\n",
    "           ('Doorverbindingen', 'ONDERNEMINGEN'),\n",
    "                  ('Doorverbindingen', 'OVERIG'),\n",
    "           ('Doorverbindingen', 'PARTICULIEREN'),\n",
    "               ('Doorverbindingen', 'TOESLAGEN'),\n",
    "          ]].rank(axis =1, method = 'average', ascending = False).mean().sort_values(), 'Absolute rank': [1,2,3,4,5,6,7], 'Score':[2,6,1,4,5,7,3]})"
   ]
  }
 ],
 "metadata": {
  "kernelspec": {
   "display_name": "Python 3 (ipykernel)",
   "language": "python",
   "name": "python3"
  },
  "language_info": {
   "codemirror_mode": {
    "name": "ipython",
    "version": 3
   },
   "file_extension": ".py",
   "mimetype": "text/x-python",
   "name": "python",
   "nbconvert_exporter": "python",
   "pygments_lexer": "ipython3",
   "version": "3.9.7"
  }
 },
 "nbformat": 4,
 "nbformat_minor": 5
}
